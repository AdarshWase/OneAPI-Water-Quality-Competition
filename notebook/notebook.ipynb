{
 "cells": [
  {
   "cell_type": "code",
   "execution_count": 1,
   "metadata": {},
   "outputs": [
    {
     "name": "stderr",
     "output_type": "stream",
     "text": [
      "Intel(R) Extension for Scikit-learn* enabled (https://github.com/intel/scikit-learn-intelex)\n"
     ]
    }
   ],
   "source": [
    "import os\n",
    "os.chdir('..')\n",
    "\n",
    "import numpy as np\n",
    "import pandas as pd\n",
    "import seaborn as sns\n",
    "import matplotlib.pyplot as plt\n",
    "\n",
    "from sklearnex import patch_sklearn\n",
    "patch_sklearn()\n",
    "\n",
    "from sklearn.preprocessing import MinMaxScaler\n",
    "from sklearn.preprocessing import OrdinalEncoder\n",
    "from sklearn.model_selection import train_test_split\n",
    "\n",
    "pd.set_option('display.max_columns', None)"
   ]
  },
  {
   "cell_type": "code",
   "execution_count": 31,
   "metadata": {},
   "outputs": [
    {
     "data": {
      "text/html": [
       "<div>\n",
       "<style scoped>\n",
       "    .dataframe tbody tr th:only-of-type {\n",
       "        vertical-align: middle;\n",
       "    }\n",
       "\n",
       "    .dataframe tbody tr th {\n",
       "        vertical-align: top;\n",
       "    }\n",
       "\n",
       "    .dataframe thead th {\n",
       "        text-align: right;\n",
       "    }\n",
       "</style>\n",
       "<table border=\"1\" class=\"dataframe\">\n",
       "  <thead>\n",
       "    <tr style=\"text-align: right;\">\n",
       "      <th></th>\n",
       "      <th>Index</th>\n",
       "      <th>pH</th>\n",
       "      <th>Iron</th>\n",
       "      <th>Nitrate</th>\n",
       "      <th>Chloride</th>\n",
       "      <th>Lead</th>\n",
       "      <th>Zinc</th>\n",
       "      <th>Color</th>\n",
       "      <th>Turbidity</th>\n",
       "      <th>Fluoride</th>\n",
       "      <th>Copper</th>\n",
       "      <th>Odor</th>\n",
       "      <th>Sulfate</th>\n",
       "      <th>Conductivity</th>\n",
       "      <th>Chlorine</th>\n",
       "      <th>Manganese</th>\n",
       "      <th>Total Dissolved Solids</th>\n",
       "      <th>Source</th>\n",
       "      <th>Water Temperature</th>\n",
       "      <th>Air Temperature</th>\n",
       "      <th>Month</th>\n",
       "      <th>Day</th>\n",
       "      <th>Time of Day</th>\n",
       "      <th>Target</th>\n",
       "    </tr>\n",
       "  </thead>\n",
       "  <tbody>\n",
       "    <tr>\n",
       "      <th>0</th>\n",
       "      <td>0</td>\n",
       "      <td>8.33</td>\n",
       "      <td>0.00</td>\n",
       "      <td>8.61</td>\n",
       "      <td>122.80</td>\n",
       "      <td>0.00</td>\n",
       "      <td>3.43</td>\n",
       "      <td>Colorless</td>\n",
       "      <td>0.02</td>\n",
       "      <td>0.61</td>\n",
       "      <td>0.14</td>\n",
       "      <td>1.63</td>\n",
       "      <td>87.27</td>\n",
       "      <td>471.68</td>\n",
       "      <td>3.71</td>\n",
       "      <td>0.00</td>\n",
       "      <td>332.12</td>\n",
       "      <td>NaN</td>\n",
       "      <td>NaN</td>\n",
       "      <td>43.49</td>\n",
       "      <td>January</td>\n",
       "      <td>29.00</td>\n",
       "      <td>4.00</td>\n",
       "      <td>0</td>\n",
       "    </tr>\n",
       "    <tr>\n",
       "      <th>1</th>\n",
       "      <td>1</td>\n",
       "      <td>6.92</td>\n",
       "      <td>0.00</td>\n",
       "      <td>3.73</td>\n",
       "      <td>227.03</td>\n",
       "      <td>0.00</td>\n",
       "      <td>1.25</td>\n",
       "      <td>Faint Yellow</td>\n",
       "      <td>0.02</td>\n",
       "      <td>0.62</td>\n",
       "      <td>0.44</td>\n",
       "      <td>1.69</td>\n",
       "      <td>144.01</td>\n",
       "      <td>432.84</td>\n",
       "      <td>3.29</td>\n",
       "      <td>0.00</td>\n",
       "      <td>284.64</td>\n",
       "      <td>Lake</td>\n",
       "      <td>15.35</td>\n",
       "      <td>71.22</td>\n",
       "      <td>November</td>\n",
       "      <td>26.00</td>\n",
       "      <td>16.00</td>\n",
       "      <td>0</td>\n",
       "    </tr>\n",
       "    <tr>\n",
       "      <th>2</th>\n",
       "      <td>2</td>\n",
       "      <td>5.44</td>\n",
       "      <td>0.02</td>\n",
       "      <td>3.82</td>\n",
       "      <td>231.00</td>\n",
       "      <td>0.00</td>\n",
       "      <td>0.53</td>\n",
       "      <td>Light Yellow</td>\n",
       "      <td>0.32</td>\n",
       "      <td>0.42</td>\n",
       "      <td>0.43</td>\n",
       "      <td>3.41</td>\n",
       "      <td>275.70</td>\n",
       "      <td>990.20</td>\n",
       "      <td>3.56</td>\n",
       "      <td>0.07</td>\n",
       "      <td>570.05</td>\n",
       "      <td>River</td>\n",
       "      <td>11.64</td>\n",
       "      <td>44.89</td>\n",
       "      <td>January</td>\n",
       "      <td>31.00</td>\n",
       "      <td>8.00</td>\n",
       "      <td>0</td>\n",
       "    </tr>\n",
       "    <tr>\n",
       "      <th>3</th>\n",
       "      <td>3</td>\n",
       "      <td>7.96</td>\n",
       "      <td>0.14</td>\n",
       "      <td>8.22</td>\n",
       "      <td>178.13</td>\n",
       "      <td>0.00</td>\n",
       "      <td>4.03</td>\n",
       "      <td>Near Colorless</td>\n",
       "      <td>0.17</td>\n",
       "      <td>0.21</td>\n",
       "      <td>0.24</td>\n",
       "      <td>NaN</td>\n",
       "      <td>147.16</td>\n",
       "      <td>237.03</td>\n",
       "      <td>3.52</td>\n",
       "      <td>0.02</td>\n",
       "      <td>100.04</td>\n",
       "      <td>Ground</td>\n",
       "      <td>10.09</td>\n",
       "      <td>60.84</td>\n",
       "      <td>April</td>\n",
       "      <td>1.00</td>\n",
       "      <td>21.00</td>\n",
       "      <td>0</td>\n",
       "    </tr>\n",
       "    <tr>\n",
       "      <th>4</th>\n",
       "      <td>4</td>\n",
       "      <td>8.09</td>\n",
       "      <td>0.00</td>\n",
       "      <td>9.93</td>\n",
       "      <td>186.54</td>\n",
       "      <td>0.00</td>\n",
       "      <td>3.81</td>\n",
       "      <td>Light Yellow</td>\n",
       "      <td>0.00</td>\n",
       "      <td>0.22</td>\n",
       "      <td>0.62</td>\n",
       "      <td>0.80</td>\n",
       "      <td>175.28</td>\n",
       "      <td>385.03</td>\n",
       "      <td>3.18</td>\n",
       "      <td>0.00</td>\n",
       "      <td>168.08</td>\n",
       "      <td>Spring</td>\n",
       "      <td>15.25</td>\n",
       "      <td>69.34</td>\n",
       "      <td>June</td>\n",
       "      <td>29.00</td>\n",
       "      <td>7.00</td>\n",
       "      <td>0</td>\n",
       "    </tr>\n",
       "  </tbody>\n",
       "</table>\n",
       "</div>"
      ],
      "text/plain": [
       "   Index   pH  Iron  Nitrate  Chloride  Lead  Zinc           Color  Turbidity  \\\n",
       "0      0 8.33  0.00     8.61    122.80  0.00  3.43       Colorless       0.02   \n",
       "1      1 6.92  0.00     3.73    227.03  0.00  1.25    Faint Yellow       0.02   \n",
       "2      2 5.44  0.02     3.82    231.00  0.00  0.53    Light Yellow       0.32   \n",
       "3      3 7.96  0.14     8.22    178.13  0.00  4.03  Near Colorless       0.17   \n",
       "4      4 8.09  0.00     9.93    186.54  0.00  3.81    Light Yellow       0.00   \n",
       "\n",
       "   Fluoride  Copper  Odor  Sulfate  Conductivity  Chlorine  Manganese  \\\n",
       "0      0.61    0.14  1.63    87.27        471.68      3.71       0.00   \n",
       "1      0.62    0.44  1.69   144.01        432.84      3.29       0.00   \n",
       "2      0.42    0.43  3.41   275.70        990.20      3.56       0.07   \n",
       "3      0.21    0.24   NaN   147.16        237.03      3.52       0.02   \n",
       "4      0.22    0.62  0.80   175.28        385.03      3.18       0.00   \n",
       "\n",
       "   Total Dissolved Solids  Source  Water Temperature  Air Temperature  \\\n",
       "0                  332.12     NaN                NaN            43.49   \n",
       "1                  284.64    Lake              15.35            71.22   \n",
       "2                  570.05   River              11.64            44.89   \n",
       "3                  100.04  Ground              10.09            60.84   \n",
       "4                  168.08  Spring              15.25            69.34   \n",
       "\n",
       "      Month   Day  Time of Day  Target  \n",
       "0   January 29.00         4.00       0  \n",
       "1  November 26.00        16.00       0  \n",
       "2   January 31.00         8.00       0  \n",
       "3     April  1.00        21.00       0  \n",
       "4      June 29.00         7.00       0  "
      ]
     },
     "execution_count": 31,
     "metadata": {},
     "output_type": "execute_result"
    }
   ],
   "source": [
    "original_data = pd.read_csv('data/dataset.csv')\n",
    "\n",
    "df = original_data.copy()\n",
    "df.head()"
   ]
  },
  {
   "cell_type": "code",
   "execution_count": 32,
   "metadata": {},
   "outputs": [
    {
     "data": {
      "text/plain": [
       "(5956842, 24)"
      ]
     },
     "execution_count": 32,
     "metadata": {},
     "output_type": "execute_result"
    }
   ],
   "source": [
    "df.shape"
   ]
  },
  {
   "cell_type": "markdown",
   "metadata": {},
   "source": [
    "### Handelling Missing Values"
   ]
  },
  {
   "cell_type": "code",
   "execution_count": 39,
   "metadata": {},
   "outputs": [],
   "source": [
    "# Filling with mean - \n",
    "\n",
    "missing_val_columns = ['pH', 'Iron', 'Nitrate', 'Chloride', 'Lead', 'Zinc',\n",
    "       'Turbidity', 'Fluoride', 'Copper', 'Odor', 'Sulfate', 'Conductivity',\n",
    "       'Chlorine', 'Manganese', 'Total Dissolved Solids', 'Water Temperature', 'Air Temperature']\n",
    "\n",
    "for col in missing_val_columns:\n",
    "    df[col].fillna(df[col].mean(), inplace = True)"
   ]
  },
  {
   "cell_type": "code",
   "execution_count": 40,
   "metadata": {},
   "outputs": [],
   "source": [
    "# Filling with mapping\n",
    "\n",
    "df['Color'].fillna('Near Colorless', inplace=True)\n",
    "color_mapping = df.groupby('Color')['Color'].transform('count') / len(df)\n",
    "\n",
    "df['Color'] = color_mapping"
   ]
  },
  {
   "cell_type": "code",
   "execution_count": 41,
   "metadata": {},
   "outputs": [],
   "source": [
    "# Filling with mode\n",
    "\n",
    "df['Source'] = df['Source'].fillna('Stream')\n",
    "\n",
    "encoder = OrdinalEncoder()\n",
    "df['Source'] = encoder.fit_transform(df[['Source']])"
   ]
  },
  {
   "cell_type": "code",
   "execution_count": 42,
   "metadata": {},
   "outputs": [],
   "source": [
    "# Deleting non important columns\n",
    "\n",
    "del df['Day']\n",
    "del df['Index']\n",
    "del df['Month']\n",
    "del df['Time of Day']"
   ]
  },
  {
   "cell_type": "code",
   "execution_count": 43,
   "metadata": {},
   "outputs": [
    {
     "data": {
      "text/plain": [
       "Index(['pH', 'Iron', 'Nitrate', 'Chloride', 'Lead', 'Zinc', 'Color',\n",
       "       'Turbidity', 'Fluoride', 'Copper', 'Odor', 'Sulfate', 'Conductivity',\n",
       "       'Chlorine', 'Manganese', 'Total Dissolved Solids', 'Source',\n",
       "       'Water Temperature', 'Air Temperature', 'Target'],\n",
       "      dtype='object')"
      ]
     },
     "execution_count": 43,
     "metadata": {},
     "output_type": "execute_result"
    }
   ],
   "source": [
    "df.columns"
   ]
  },
  {
   "cell_type": "markdown",
   "metadata": {},
   "source": [
    "### Feature Engineering"
   ]
  },
  {
   "cell_type": "code",
   "execution_count": null,
   "metadata": {},
   "outputs": [],
   "source": [
    "# Binning Iron based on the histogram (Low, Moderate and High)\n",
    "\n",
    "bin_edges = [0, 0.1, 1, 20]\n",
    "bin_labels = [0, 0.4, 1]\n",
    "df['Iron_Bin'] = pd.cut(df['Iron'], bins = bin_edges, labels = bin_labels)\n",
    "\n",
    "# Nitrate\n",
    "bin_edges = [0, 1, 5, 100] \n",
    "df['Nitrate_Bin'] = pd.cut(df['Nitrate'], bins=bin_edges, labels=bin_labels)\n",
    "\n",
    "# Copper\n",
    "bin_edges = [0, 0.02, 1, 20]\n",
    "df['Copper_Bin'] = pd.cut(df['Copper'], bins=bin_edges, labels=bin_labels)"
   ]
  },
  {
   "cell_type": "markdown",
   "metadata": {},
   "source": [
    "### Validation Strategy"
   ]
  },
  {
   "cell_type": "code",
   "execution_count": null,
   "metadata": {},
   "outputs": [],
   "source": [
    "# Choosing two validation datasets, in order to get a better idea of the model performance.\n",
    "# Taking only 10% of the data for validation because of the very large size of the dataset.\n",
    "\n",
    "X = df.drop('Target', axis = 1)\n",
    "y = df['Target']\n",
    "\n",
    "X_train, X_val, y_train, y_val = train_test_split(X, y, test_size = 0.1, random_state = 42, shuffle = True, stratify = y)\n",
    "X_val_1, X_val_2, y_val_1, y_val_2 = train_test_split(X_val, y_val, test_size = 0.5, random_state = 42, stratify = y_val)\n",
    "\n",
    "X_train.shape, X_val_1.shape, X_val_2.shape, y_train.shape, y_val_1.shape, y_val_2.shape"
   ]
  },
  {
   "cell_type": "code",
   "execution_count": null,
   "metadata": {},
   "outputs": [],
   "source": [
    "scaler = MinMaxScaler()\n",
    "scaler.fit(X_train)\n",
    "\n",
    "X_train_scaled = scaler.transform(X_train)\n",
    "X_val_1_scaled = scaler.transform(X_val_1)\n",
    "X_val_2_scaled = scaler.transform(X_val_2)"
   ]
  },
  {
   "cell_type": "code",
   "execution_count": null,
   "metadata": {},
   "outputs": [],
   "source": [
    "X_train.info()"
   ]
  },
  {
   "cell_type": "markdown",
   "metadata": {},
   "source": [
    "### Training"
   ]
  },
  {
   "cell_type": "code",
   "execution_count": null,
   "metadata": {},
   "outputs": [],
   "source": [
    "import daal4py as d4p\n",
    "import lightgbm as lgb\n",
    "from lightgbm import LGBMClassifier\n",
    "from sklearn.metrics import accuracy_score, confusion_matrix, recall_score, ConfusionMatrixDisplay, f1_score"
   ]
  },
  {
   "cell_type": "code",
   "execution_count": null,
   "metadata": {},
   "outputs": [],
   "source": [
    "clf = LGBMClassifier(objective = 'binary',\n",
    "                     metric = 'binary_logloss',\n",
    "                     random_state = 42,\n",
    "                     n_jobs = -1,\n",
    "                     force_row_wise = True)\n",
    "\n",
    "callback = lgb.early_stopping(stopping_rounds = 10)\n",
    "clf.fit(X_train_scaled, y_train, eval_set=[(X_val_2_scaled, y_val_2)], callbacks = [callback])"
   ]
  },
  {
   "cell_type": "code",
   "execution_count": null,
   "metadata": {},
   "outputs": [],
   "source": [
    "print('predicting -')\n",
    "y_pred_1 = clf.predict(X_val_1_scaled)\n",
    "y_pred_2 = clf.predict(X_val_2_scaled)\n",
    "\n",
    "print('Accuracy on validation set 1: ', accuracy_score(y_val_1, y_pred_1))\n",
    "print('Accuracy on validation set 2: ', accuracy_score(y_val_2, y_pred_2))\n",
    "print('Recall on validation set 1: ', recall_score(y_val_1, y_pred_1))\n",
    "print('Recall on validation set 2: ', recall_score(y_val_2, y_pred_2))\n",
    "print('F1 on validation set 1: ', f1_score(y_val_1, y_pred_1))\n",
    "print('F1 on validation set 2: ', f1_score(y_val_2, y_pred_2))"
   ]
  },
  {
   "cell_type": "code",
   "execution_count": null,
   "metadata": {},
   "outputs": [],
   "source": [
    "plt.bar(X_train.columns, clf.feature_importances_)\n",
    "plt.xticks(rotation = 90)\n",
    "\n",
    "plt.show()"
   ]
  },
  {
   "cell_type": "code",
   "execution_count": null,
   "metadata": {},
   "outputs": [],
   "source": [
    "cm = confusion_matrix(y_val_1, y_pred_1)\n",
    "ConfusionMatrixDisplay(cm).plot()"
   ]
  },
  {
   "cell_type": "markdown",
   "metadata": {},
   "source": [
    "### Serialization"
   ]
  },
  {
   "cell_type": "code",
   "execution_count": null,
   "metadata": {},
   "outputs": [],
   "source": [
    "import joblib\n",
    "\n",
    "with open('model/model.joblib','wb') as out:\n",
    "    joblib.dump(clf, out)\n",
    "\n",
    "joblib.dump(scaler, 'model/scaler.joblib')\n",
    "joblib.dump(encoder, 'model/ordinal_encoder.joblib')"
   ]
  },
  {
   "cell_type": "code",
   "execution_count": null,
   "metadata": {},
   "outputs": [],
   "source": [
    "df.head()"
   ]
  }
 ],
 "metadata": {
  "kernelspec": {
   "display_name": "base",
   "language": "python",
   "name": "python3"
  },
  "language_info": {
   "codemirror_mode": {
    "name": "ipython",
    "version": 3
   },
   "file_extension": ".py",
   "mimetype": "text/x-python",
   "name": "python",
   "nbconvert_exporter": "python",
   "pygments_lexer": "ipython3",
   "version": "3.11.4"
  }
 },
 "nbformat": 4,
 "nbformat_minor": 4
}

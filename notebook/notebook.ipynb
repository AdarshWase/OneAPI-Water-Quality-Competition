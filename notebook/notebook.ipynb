{
 "cells": [
  {
   "cell_type": "code",
   "execution_count": 1,
   "metadata": {},
   "outputs": [
    {
     "name": "stderr",
     "output_type": "stream",
     "text": [
      "Intel(R) Extension for Scikit-learn* enabled (https://github.com/intel/scikit-learn-intelex)\n"
     ]
    }
   ],
   "source": [
    "import os\n",
    "os.chdir('..')\n",
    "\n",
    "import numpy as np\n",
    "import pandas as pd\n",
    "import seaborn as sns\n",
    "import matplotlib.pyplot as plt\n",
    "\n",
    "from sklearnex import patch_sklearn\n",
    "patch_sklearn()\n",
    "\n",
    "from statistics import mode\n",
    "from sklearn.preprocessing import MinMaxScaler\n",
    "from sklearn.preprocessing import OrdinalEncoder\n",
    "from sklearn.model_selection import train_test_split\n",
    "\n",
    "pd.set_option('display.max_columns', None)"
   ]
  },
  {
   "cell_type": "code",
   "execution_count": 2,
   "metadata": {},
   "outputs": [
    {
     "data": {
      "text/html": [
       "<div>\n",
       "<style scoped>\n",
       "    .dataframe tbody tr th:only-of-type {\n",
       "        vertical-align: middle;\n",
       "    }\n",
       "\n",
       "    .dataframe tbody tr th {\n",
       "        vertical-align: top;\n",
       "    }\n",
       "\n",
       "    .dataframe thead th {\n",
       "        text-align: right;\n",
       "    }\n",
       "</style>\n",
       "<table border=\"1\" class=\"dataframe\">\n",
       "  <thead>\n",
       "    <tr style=\"text-align: right;\">\n",
       "      <th></th>\n",
       "      <th>Index</th>\n",
       "      <th>pH</th>\n",
       "      <th>Iron</th>\n",
       "      <th>Nitrate</th>\n",
       "      <th>Chloride</th>\n",
       "      <th>Lead</th>\n",
       "      <th>Zinc</th>\n",
       "      <th>Color</th>\n",
       "      <th>Turbidity</th>\n",
       "      <th>Fluoride</th>\n",
       "      <th>Copper</th>\n",
       "      <th>Odor</th>\n",
       "      <th>Sulfate</th>\n",
       "      <th>Conductivity</th>\n",
       "      <th>Chlorine</th>\n",
       "      <th>Manganese</th>\n",
       "      <th>Total Dissolved Solids</th>\n",
       "      <th>Source</th>\n",
       "      <th>Water Temperature</th>\n",
       "      <th>Air Temperature</th>\n",
       "      <th>Month</th>\n",
       "      <th>Day</th>\n",
       "      <th>Time of Day</th>\n",
       "      <th>Target</th>\n",
       "    </tr>\n",
       "  </thead>\n",
       "  <tbody>\n",
       "    <tr>\n",
       "      <th>0</th>\n",
       "      <td>0</td>\n",
       "      <td>8.332988</td>\n",
       "      <td>0.000083</td>\n",
       "      <td>8.605777</td>\n",
       "      <td>122.799772</td>\n",
       "      <td>3.713298e-52</td>\n",
       "      <td>3.434827</td>\n",
       "      <td>Colorless</td>\n",
       "      <td>0.022683</td>\n",
       "      <td>0.607283</td>\n",
       "      <td>0.144599</td>\n",
       "      <td>1.626212</td>\n",
       "      <td>87.266538</td>\n",
       "      <td>471.683357</td>\n",
       "      <td>3.708178</td>\n",
       "      <td>2.269945e-15</td>\n",
       "      <td>332.118789</td>\n",
       "      <td>NaN</td>\n",
       "      <td>NaN</td>\n",
       "      <td>43.493324</td>\n",
       "      <td>January</td>\n",
       "      <td>29.0</td>\n",
       "      <td>4.0</td>\n",
       "      <td>0</td>\n",
       "    </tr>\n",
       "    <tr>\n",
       "      <th>1</th>\n",
       "      <td>1</td>\n",
       "      <td>6.917863</td>\n",
       "      <td>0.000081</td>\n",
       "      <td>3.734167</td>\n",
       "      <td>227.029851</td>\n",
       "      <td>7.849262e-94</td>\n",
       "      <td>1.245317</td>\n",
       "      <td>Faint Yellow</td>\n",
       "      <td>0.019007</td>\n",
       "      <td>0.622874</td>\n",
       "      <td>0.437835</td>\n",
       "      <td>1.686049</td>\n",
       "      <td>144.010981</td>\n",
       "      <td>432.844908</td>\n",
       "      <td>3.292038</td>\n",
       "      <td>8.024076e-07</td>\n",
       "      <td>284.641984</td>\n",
       "      <td>Lake</td>\n",
       "      <td>15.348981</td>\n",
       "      <td>71.220586</td>\n",
       "      <td>November</td>\n",
       "      <td>26.0</td>\n",
       "      <td>16.0</td>\n",
       "      <td>0</td>\n",
       "    </tr>\n",
       "    <tr>\n",
       "      <th>2</th>\n",
       "      <td>2</td>\n",
       "      <td>5.443762</td>\n",
       "      <td>0.020106</td>\n",
       "      <td>3.816994</td>\n",
       "      <td>230.995630</td>\n",
       "      <td>5.286616e-76</td>\n",
       "      <td>0.528280</td>\n",
       "      <td>Light Yellow</td>\n",
       "      <td>0.319956</td>\n",
       "      <td>0.423423</td>\n",
       "      <td>0.431588</td>\n",
       "      <td>3.414619</td>\n",
       "      <td>275.702107</td>\n",
       "      <td>990.201209</td>\n",
       "      <td>3.560224</td>\n",
       "      <td>7.007989e-02</td>\n",
       "      <td>570.054094</td>\n",
       "      <td>River</td>\n",
       "      <td>11.643467</td>\n",
       "      <td>44.891330</td>\n",
       "      <td>January</td>\n",
       "      <td>31.0</td>\n",
       "      <td>8.0</td>\n",
       "      <td>0</td>\n",
       "    </tr>\n",
       "    <tr>\n",
       "      <th>3</th>\n",
       "      <td>3</td>\n",
       "      <td>7.955339</td>\n",
       "      <td>0.143988</td>\n",
       "      <td>8.224944</td>\n",
       "      <td>178.129940</td>\n",
       "      <td>3.997118e-176</td>\n",
       "      <td>4.027879</td>\n",
       "      <td>Near Colorless</td>\n",
       "      <td>0.166319</td>\n",
       "      <td>0.208454</td>\n",
       "      <td>0.239451</td>\n",
       "      <td>NaN</td>\n",
       "      <td>147.163233</td>\n",
       "      <td>237.028467</td>\n",
       "      <td>3.516907</td>\n",
       "      <td>2.468295e-02</td>\n",
       "      <td>100.043838</td>\n",
       "      <td>Ground</td>\n",
       "      <td>10.092392</td>\n",
       "      <td>60.843233</td>\n",
       "      <td>April</td>\n",
       "      <td>1.0</td>\n",
       "      <td>21.0</td>\n",
       "      <td>0</td>\n",
       "    </tr>\n",
       "    <tr>\n",
       "      <th>4</th>\n",
       "      <td>4</td>\n",
       "      <td>8.091909</td>\n",
       "      <td>0.002167</td>\n",
       "      <td>9.925788</td>\n",
       "      <td>186.540872</td>\n",
       "      <td>4.171069e-132</td>\n",
       "      <td>3.807511</td>\n",
       "      <td>Light Yellow</td>\n",
       "      <td>0.004867</td>\n",
       "      <td>0.222912</td>\n",
       "      <td>0.616574</td>\n",
       "      <td>0.795310</td>\n",
       "      <td>175.275175</td>\n",
       "      <td>385.025855</td>\n",
       "      <td>3.177849</td>\n",
       "      <td>3.296139e-03</td>\n",
       "      <td>168.075545</td>\n",
       "      <td>Spring</td>\n",
       "      <td>15.249416</td>\n",
       "      <td>69.336671</td>\n",
       "      <td>June</td>\n",
       "      <td>29.0</td>\n",
       "      <td>7.0</td>\n",
       "      <td>0</td>\n",
       "    </tr>\n",
       "  </tbody>\n",
       "</table>\n",
       "</div>"
      ],
      "text/plain": [
       "   Index        pH      Iron   Nitrate    Chloride           Lead      Zinc  \\\n",
       "0      0  8.332988  0.000083  8.605777  122.799772   3.713298e-52  3.434827   \n",
       "1      1  6.917863  0.000081  3.734167  227.029851   7.849262e-94  1.245317   \n",
       "2      2  5.443762  0.020106  3.816994  230.995630   5.286616e-76  0.528280   \n",
       "3      3  7.955339  0.143988  8.224944  178.129940  3.997118e-176  4.027879   \n",
       "4      4  8.091909  0.002167  9.925788  186.540872  4.171069e-132  3.807511   \n",
       "\n",
       "            Color  Turbidity  Fluoride    Copper      Odor     Sulfate  \\\n",
       "0       Colorless   0.022683  0.607283  0.144599  1.626212   87.266538   \n",
       "1    Faint Yellow   0.019007  0.622874  0.437835  1.686049  144.010981   \n",
       "2    Light Yellow   0.319956  0.423423  0.431588  3.414619  275.702107   \n",
       "3  Near Colorless   0.166319  0.208454  0.239451       NaN  147.163233   \n",
       "4    Light Yellow   0.004867  0.222912  0.616574  0.795310  175.275175   \n",
       "\n",
       "   Conductivity  Chlorine     Manganese  Total Dissolved Solids  Source  \\\n",
       "0    471.683357  3.708178  2.269945e-15              332.118789     NaN   \n",
       "1    432.844908  3.292038  8.024076e-07              284.641984    Lake   \n",
       "2    990.201209  3.560224  7.007989e-02              570.054094   River   \n",
       "3    237.028467  3.516907  2.468295e-02              100.043838  Ground   \n",
       "4    385.025855  3.177849  3.296139e-03              168.075545  Spring   \n",
       "\n",
       "   Water Temperature  Air Temperature     Month   Day  Time of Day  Target  \n",
       "0                NaN        43.493324   January  29.0          4.0       0  \n",
       "1          15.348981        71.220586  November  26.0         16.0       0  \n",
       "2          11.643467        44.891330   January  31.0          8.0       0  \n",
       "3          10.092392        60.843233     April   1.0         21.0       0  \n",
       "4          15.249416        69.336671      June  29.0          7.0       0  "
      ]
     },
     "execution_count": 2,
     "metadata": {},
     "output_type": "execute_result"
    }
   ],
   "source": [
    "original_data = pd.read_csv('data/dataset.csv')\n",
    "\n",
    "df = original_data.copy()\n",
    "df.head()"
   ]
  },
  {
   "cell_type": "code",
   "execution_count": 3,
   "metadata": {},
   "outputs": [
    {
     "data": {
      "text/plain": [
       "(5956842, 24)"
      ]
     },
     "execution_count": 3,
     "metadata": {},
     "output_type": "execute_result"
    }
   ],
   "source": [
    "df.shape"
   ]
  },
  {
   "cell_type": "markdown",
   "metadata": {},
   "source": [
    "### Handelling Missing Values"
   ]
  },
  {
   "cell_type": "code",
   "execution_count": 5,
   "metadata": {},
   "outputs": [],
   "source": [
    "# Filling with mean - \n",
    "\n",
    "missing_val_columns = ['pH', 'Iron', 'Nitrate', 'Chloride', 'Lead', 'Zinc',\n",
    "       'Turbidity', 'Fluoride', 'Copper', 'Odor', 'Sulfate', 'Conductivity',\n",
    "       'Chlorine', 'Manganese', 'Total Dissolved Solids', 'Water Temperature', 'Air Temperature']\n",
    "\n",
    "for col in missing_val_columns:\n",
    "    df[col].fillna(df[col].mean(), inplace = True)"
   ]
  },
  {
   "cell_type": "code",
   "execution_count": 6,
   "metadata": {},
   "outputs": [],
   "source": [
    "# Filling with mapping\n",
    "\n",
    "df['Color'].fillna('Near Colorless', inplace=True)\n",
    "color_mapping = df.groupby('Color')['Color'].transform('count') / len(df)\n",
    "\n",
    "df['Color'] = color_mapping"
   ]
  },
  {
   "cell_type": "code",
   "execution_count": 7,
   "metadata": {},
   "outputs": [],
   "source": [
    "# Filling with mode\n",
    "\n",
    "df['Source'] = df['Source'].fillna('Stream')\n",
    "\n",
    "encoder = OrdinalEncoder()\n",
    "df['Source'] = encoder.fit_transform(df[['Source']])"
   ]
  },
  {
   "cell_type": "code",
   "execution_count": 8,
   "metadata": {},
   "outputs": [],
   "source": [
    "# Deleting non important columns\n",
    "\n",
    "del df['Day']\n",
    "del df['Index']\n",
    "del df['Month']\n",
    "del df['Time of Day']"
   ]
  },
  {
   "cell_type": "code",
   "execution_count": 9,
   "metadata": {},
   "outputs": [
    {
     "data": {
      "text/plain": [
       "Index(['pH', 'Iron', 'Nitrate', 'Chloride', 'Lead', 'Zinc', 'Color',\n",
       "       'Turbidity', 'Fluoride', 'Copper', 'Odor', 'Sulfate', 'Conductivity',\n",
       "       'Chlorine', 'Manganese', 'Total Dissolved Solids', 'Source',\n",
       "       'Water Temperature', 'Air Temperature', 'Target'],\n",
       "      dtype='object')"
      ]
     },
     "execution_count": 9,
     "metadata": {},
     "output_type": "execute_result"
    }
   ],
   "source": [
    "df.columns"
   ]
  },
  {
   "cell_type": "markdown",
   "metadata": {},
   "source": [
    "### Feature Engineering"
   ]
  },
  {
   "cell_type": "code",
   "execution_count": 10,
   "metadata": {},
   "outputs": [],
   "source": [
    "# Binning Iron based on the histogram (Low, Moderate and High)\n",
    "\n",
    "bin_edges = [0, 0.1, 1, 20]\n",
    "bin_labels = [0, 0.4, 1]\n",
    "df['Iron_Bin'] = pd.cut(df['Iron'], bins = bin_edges, labels = bin_labels)\n",
    "\n",
    "# Nitrate\n",
    "bin_edges = [0, 1, 5, 100] \n",
    "df['Nitrate_Bin'] = pd.cut(df['Nitrate'], bins=bin_edges, labels=bin_labels)\n",
    "\n",
    "# Copper\n",
    "bin_edges = [0, 0.02, 1, 20]\n",
    "df['Copper_Bin'] = pd.cut(df['Copper'], bins=bin_edges, labels=bin_labels)"
   ]
  },
  {
   "cell_type": "markdown",
   "metadata": {},
   "source": [
    "### Validation Strategy"
   ]
  },
  {
   "cell_type": "code",
   "execution_count": 11,
   "metadata": {},
   "outputs": [
    {
     "data": {
      "text/plain": [
       "((5361157, 22), (297842, 22), (297843, 22), (5361157,), (297842,), (297843,))"
      ]
     },
     "execution_count": 11,
     "metadata": {},
     "output_type": "execute_result"
    }
   ],
   "source": [
    "# Choosing two validation datasets, in order to get a better idea of the model performance.\n",
    "# Taking only 10% of the data for validation because of the very large size of the dataset.\n",
    "\n",
    "X = df.drop('Target', axis = 1)\n",
    "y = df['Target']\n",
    "\n",
    "X_train, X_val, y_train, y_val = train_test_split(X, y, test_size = 0.1, random_state = 42, shuffle = True, stratify = y)\n",
    "X_val_1, X_val_2, y_val_1, y_val_2 = train_test_split(X_val, y_val, test_size = 0.5, random_state = 42, stratify = y_val)\n",
    "\n",
    "X_train.shape, X_val_1.shape, X_val_2.shape, y_train.shape, y_val_1.shape, y_val_2.shape"
   ]
  },
  {
   "cell_type": "code",
   "execution_count": 12,
   "metadata": {},
   "outputs": [],
   "source": [
    "scaler = MinMaxScaler()\n",
    "scaler.fit(X_train)\n",
    "\n",
    "X_train_scaled = scaler.transform(X_train)\n",
    "X_val_1_scaled = scaler.transform(X_val_1)\n",
    "X_val_2_scaled = scaler.transform(X_val_2)"
   ]
  },
  {
   "cell_type": "markdown",
   "metadata": {},
   "source": [
    "### Training"
   ]
  },
  {
   "cell_type": "code",
   "execution_count": 21,
   "metadata": {},
   "outputs": [],
   "source": [
    "import mlflow\n",
    "import daal4py as d4p\n",
    "import lightgbm as lgb\n",
    "\n",
    "from xgboost import XGBClassifier\n",
    "from lightgbm import LGBMClassifier\n",
    "from sklearn.metrics import accuracy_score, confusion_matrix, recall_score, ConfusionMatrixDisplay, f1_score, precision_score"
   ]
  },
  {
   "cell_type": "code",
   "execution_count": 24,
   "metadata": {},
   "outputs": [],
   "source": [
    "mlflow.end_run()"
   ]
  },
  {
   "cell_type": "code",
   "execution_count": 25,
   "metadata": {},
   "outputs": [
    {
     "name": "stdout",
     "output_type": "stream",
     "text": [
      "[LightGBM] [Info] Number of positive: 1624727, number of negative: 3736430\n",
      "[LightGBM] [Warning] Auto-choosing row-wise multi-threading, the overhead of testing was 0.380203 seconds.\n",
      "You can set `force_row_wise=true` to remove the overhead.\n",
      "And if memory is not enough, you can set `force_col_wise=true`.\n",
      "[LightGBM] [Info] Total Bins 4357\n",
      "[LightGBM] [Info] Number of data points in the train set: 5361157, number of used features: 22\n",
      "[LightGBM] [Info] [binary:BoostFromScore]: pavg=0.303055 -> initscore=-0.832791\n",
      "[LightGBM] [Info] Start training from score -0.832791\n",
      "Training until validation scores don't improve for 30 rounds\n",
      "Did not meet early stopping. Best iteration is:\n",
      "[98]\tvalid_0's binary_logloss: 0.266709\n"
     ]
    }
   ],
   "source": [
    "params = {'reg_alpha': 5,\n",
    "           'max_depth': 5,\n",
    "           'reg_lambda': 1,\n",
    "           'colsample_bytree': 0.33,\n",
    "           'subsample': 0.0298,\n",
    "           'learning_rate': 0.3878,\n",
    "           }\n",
    "\n",
    "mlflow.start_run()\n",
    "mlflow.log_params(params)\n",
    "\n",
    "clf = XGBClassifier(**params, random_state = 42, n_jobs = -1, tree_method = 'gpu_hist', early_stopping_rounds = 30)\n",
    "clf.fit(X_train_scaled, y_train, eval_set=[(X_val_2_scaled, y_val_2)], verbose = 0)\n",
    "\n",
    "callback = lgb.early_stopping(30)\n",
    "lgbc = LGBMClassifier( n_estimators = 200000, random_state = 42, n_jobs = -1)\n",
    "lgbc.fit(X_train_scaled, y_train, eval_set=[(X_val_2_scaled, y_val_2)], callbacks = [callback])\n",
    "\n",
    "mlflow.end_run()"
   ]
  },
  {
   "cell_type": "code",
   "execution_count": 27,
   "metadata": {},
   "outputs": [
    {
     "name": "stdout",
     "output_type": "stream",
     "text": [
      "predicting -\n",
      "Accuracy on validation set 1:  0.8820112677191263\n",
      "Accuracy on validation set 2:  0.8814308209358622\n",
      "Recall on validation set 1:  0.9734882896456981\n",
      "Recall on validation set 2:  0.9728349379036815\n",
      "Precision on validation set 1:  0.7284899434578587\n",
      "Precision on validation set 2:  0.7276712464988315\n",
      "F1 on validation set 1:  0.8333554628224582\n",
      "F1 on validation set 2:  0.8325803438941484\n"
     ]
    }
   ],
   "source": [
    "print('predicting -')\n",
    "y_pred_1_lgb = lgbc.predict(X_val_1_scaled)\n",
    "y_pred_2_lgb = lgbc.predict(X_val_2_scaled)\n",
    "\n",
    "y_pred_1_xgb = clf.predict(X_val_1_scaled)\n",
    "y_pred_2_xgb = clf.predict(X_val_2_scaled)\n",
    "\n",
    "y_pred_1 = [mode([y_pred_1_lgb[i], y_pred_1_xgb[i]]) for i in range(len(y_pred_1_lgb))]\n",
    "y_pred_2 = [mode([y_pred_2_lgb[i], y_pred_2_xgb[i]]) for i in range(len(y_pred_2_lgb))]\n",
    "\n",
    "print('Accuracy on validation set 1: ', accuracy_score(y_val_1, y_pred_1))\n",
    "print('Accuracy on validation set 2: ', accuracy_score(y_val_2, y_pred_2))\n",
    "print('Recall on validation set 1: ', recall_score(y_val_1, y_pred_1))\n",
    "print('Recall on validation set 2: ', recall_score(y_val_2, y_pred_2))\n",
    "print('Precision on validation set 1: ', precision_score(y_val_1, y_pred_1))\n",
    "print('Precision on validation set 2: ', precision_score(y_val_2, y_pred_2))\n",
    "print('F1 on validation set 1: ', f1_score(y_val_1, y_pred_1))\n",
    "print('F1 on validation set 2: ', f1_score(y_val_2, y_pred_2))"
   ]
  },
  {
   "cell_type": "code",
   "execution_count": 28,
   "metadata": {},
   "outputs": [
    {
     "data": {
      "image/png": "[encoded data removed]",
      "text/plain": [
       "<Figure size 640x480 with 1 Axes>"
      ]
     },
     "metadata": {},
     "output_type": "display_data"
    }
   ],
   "source": [
    "plt.bar(X_train.columns, clf.feature_importances_)\n",
    "plt.xticks(rotation = 90)\n",
    "\n",
    "plt.show()"
   ]
  },
  {
   "cell_type": "code",
   "execution_count": 29,
   "metadata": {},
   "outputs": [
    {
     "data": {
      "text/plain": [
       "<sklearn.metrics._plot.confusion_matrix.ConfusionMatrixDisplay at 0x23fc1bbcc50>"
      ]
     },
     "execution_count": 29,
     "metadata": {},
     "output_type": "execute_result"
    },
    {
     "data": {
      "image/png": "[encoded data removed]",
      "text/plain": [
       "<Figure size 640x480 with 2 Axes>"
      ]
     },
     "metadata": {},
     "output_type": "display_data"
    }
   ],
   "source": [
    "cm = confusion_matrix(y_val_1, y_pred_1)\n",
    "ConfusionMatrixDisplay(cm).plot()"
   ]
  },
  {
   "cell_type": "markdown",
   "metadata": {},
   "source": [
    "### Serialization"
   ]
  },
  {
   "cell_type": "code",
   "execution_count": 30,
   "metadata": {},
   "outputs": [
    {
     "data": {
      "text/plain": [
       "['model/ordinal_encoder.joblib']"
      ]
     },
     "execution_count": 30,
     "metadata": {},
     "output_type": "execute_result"
    }
   ],
   "source": [
    "import joblib\n",
    "\n",
    "with open('model/lgb_model.joblib','wb') as out:\n",
    "    joblib.dump(lgbc, out)\n",
    "\n",
    "joblib.dump(scaler, 'model/scaler.joblib')\n",
    "joblib.dump(encoder, 'model/ordinal_encoder.joblib')"
   ]
  },
  {
   "cell_type": "code",
   "execution_count": 35,
   "metadata": {},
   "outputs": [],
   "source": [
    "daal_model = d4p.get_gbt_model_from_xgboost(clf.get_booster())\n",
    "\n",
    "with open('model/xgb_model.joblib','wb') as out:\n",
    "    joblib.dump(daal_model, out)"
   ]
  }
 ],
 "metadata": {
  "kernelspec": {
   "display_name": "base",
   "language": "python",
   "name": "python3"
  },
  "language_info": {
   "codemirror_mode": {
    "name": "ipython",
    "version": 3
   },
   "file_extension": ".py",
   "mimetype": "text/x-python",
   "name": "python",
   "nbconvert_exporter": "python",
   "pygments_lexer": "ipython3",
   "version": "3.11.4"
  }
 },
 "nbformat": 4,
 "nbformat_minor": 4
}
